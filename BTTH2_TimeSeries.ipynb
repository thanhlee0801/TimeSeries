{
 "cells": [
  {
   "metadata": {},
   "cell_type": "markdown",
   "source": [
    "Mô hình hóa hành vi người đi bộ hoặc robot bằng SLDS (HMM + Lọc Kalman)\n",
    "\n",
    "Mục tiêu:\n",
    "    Mô hình hóa động học đa chế độ của người đi bộ hoặc robot bằng cách sử dụng\n",
    "    Switching Linear Dynamical Systems (SLDS), trong đó HMM đảm nhiệm việc\n",
    "    chuyển đổi giữa các chế độ động học tuyến tính và bộ lọc Kalman ước tính\n",
    "    trạng thái trong mỗi chế độ.\n",
    "\n",
    "Các bước chính:\n",
    "    1. Định nghĩa các chế độ động học (ví dụ: đi bộ chậm, đi bộ nhanh, dừng lại cho người đi bộ; di chuyển thẳng, rẽ trái, rẽ phải cho robot).\n",
    "    2. Xây dựng mô hình HMM để quản lý việc chuyển đổi giữa các chế độ.\n",
    "    3. Định nghĩa mô hình động học tuyến tính (LDS) cho mỗi chế độ.\n",
    "    4. Sử dụng bộ lọc Kalman để ước tính trạng thái liên tục trong từng chế độ.\n",
    "    5. (Tùy chọn) Thực hiện học tham số cho mô hình SLDS từ dữ liệu quan sát.\n",
    "    6. (Tùy chọn) Thực hiện suy luận về chuỗi trạng thái ẩn và trạng thái liên tục.\n",
    "    7. (Tùy chọn) Trực quan hóa kết quả.\n"
   ],
   "id": "bda0bc85d53e0266"
  },
  {
   "metadata": {
    "ExecuteTime": {
     "end_time": "2025-05-13T10:52:28.703922Z",
     "start_time": "2025-05-13T10:52:28.633128Z"
    }
   },
   "cell_type": "code",
   "source": [
    "import numpy as np\n",
    "import matplotlib.pyplot as plt\n",
    "from hmmlearn import hmm\n",
    "from filterpy.kalman import KalmanFilter"
   ],
   "id": "initial_id",
   "outputs": [],
   "execution_count": 18
  },
  {
   "metadata": {},
   "cell_type": "markdown",
   "source": "1. Định nghĩa các chế độ động học",
   "id": "1f3dec4acb2364d2"
  },
  {
   "metadata": {
    "ExecuteTime": {
     "end_time": "2025-05-13T10:30:08.113015Z",
     "start_time": "2025-05-13T10:30:08.104190Z"
    }
   },
   "cell_type": "code",
   "source": "n_modes = 3  # Ví dụ: 3 chế độ (đi chậm, đi nhanh, dừng) hoặc (thẳng, trái, phải)",
   "id": "e084d46ebc2f3cc0",
   "outputs": [],
   "execution_count": 4
  },
  {
   "metadata": {},
   "cell_type": "markdown",
   "source": [
    "2. Xây dựng mô hình HMM\n",
    "Ma trận chuyển đổi trạng thái (Transition Probability Matrix)\n",
    "Ví dụ:\n",
    "       Chậm   Nhanh  Dừng\n",
    " Chậm   0.8    0.1    0.1\n",
    " Nhanh  0.2    0.7    0.1\n",
    " Dừng   0.1    0.1    0.8"
   ],
   "id": "7a5efef2ebc52f68"
  },
  {
   "metadata": {
    "ExecuteTime": {
     "end_time": "2025-05-13T10:30:10.743383Z",
     "start_time": "2025-05-13T10:30:10.724064Z"
    }
   },
   "cell_type": "code",
   "source": [
    "transmat = np.array([[0.8, 0.1, 0.1],\n",
    "                     [0.2, 0.7, 0.1],\n",
    "                     [0.1, 0.1, 0.8]])\n",
    "\n",
    "# Xác suất trạng thái ban đầu (Start Probability)\n",
    "startprob = np.array([0.6, 0.3, 0.1])\n",
    "\n",
    "# Khởi tạo mô hình HMM (chỉ cấu trúc, không có phân phối phát xạ vì LDS xử lý phần này)\n",
    "model_hmm = hmm.CategoricalHMM(n_components=n_modes, init_params=\"\")\n",
    "model_hmm.startprob_ = startprob\n",
    "model_hmm.transmat_ = transmat\n"
   ],
   "id": "ea319055d31bebdd",
   "outputs": [],
   "execution_count": 5
  },
  {
   "metadata": {},
   "cell_type": "markdown",
   "source": [
    "3. Định nghĩa mô hình động học tuyến tính (LDS) cho mỗi chế độ\n",
    "Chúng ta sẽ mô hình hóa vị trí (x, y) và vận tốc (vx, vy)"
   ],
   "id": "5b433dc79c2d5683"
  },
  {
   "metadata": {
    "ExecuteTime": {
     "end_time": "2025-05-13T10:30:13.534196Z",
     "start_time": "2025-05-13T10:30:13.521350Z"
    }
   },
   "cell_type": "code",
   "source": [
    "state_dim = 4  # [x, y, vx, vy]\n",
    "obs_dim = 2    # [x_observed, y_observed]\n",
    "dt = 0.1       # Giả sử khoảng thời gian giữa các bước là 0.1 giây\n",
    "\n",
    "lds_params = []\n",
    "for i in range(n_modes):\n",
    "    # Ma trận chuyển trạng thái A (State Transition Matrix) - mô tả cách trạng thái tiến triển theo thời gian\n",
    "    A = np.array([[1, 0, dt, 0],\n",
    "                  [0, 1, 0, dt],\n",
    "                  [0, 0, 1, 0],\n",
    "                  [0, 0, 0, 1]])\n",
    "\n",
    "    # Ma trận quan sát C (Observation Matrix) - mô tả cách trạng thái được quan sát\n",
    "    C = np.array([[1, 0, 0, 0],\n",
    "                  [0, 1, 0, 0]])\n",
    "\n",
    "    # Ma trận hiệp phương sai nhiễu quá trình Q (Process Noise Covariance)\n",
    "    # Giả sử nhiễu nhỏ tác động lên vận tốc\n",
    "    q = 0.01\n",
    "    Q = np.diag([0, 0, q, q])\n",
    "\n",
    "    # Ma trận hiệp phương sai nhiễu đo R (Measurement Noise Covariance)\n",
    "    r = 0.1\n",
    "    R = np.diag([r, r])\n",
    "\n",
    "    lds_params.append({'A': A, 'C': C, 'Q': Q, 'R': R})"
   ],
   "id": "ab719f3843c90b23",
   "outputs": [],
   "execution_count": 6
  },
  {
   "metadata": {},
   "cell_type": "markdown",
   "source": "4. Sử dụng bộ lọc Kalman để ước tính trạng thái trong từng chế độ",
   "id": "7c1be770a631d500"
  },
  {
   "metadata": {
    "ExecuteTime": {
     "end_time": "2025-05-13T10:30:18.827158Z",
     "start_time": "2025-05-13T10:30:18.817601Z"
    }
   },
   "cell_type": "code",
   "source": [
    "def run_kalman_filter(observations, initial_state, lds_params):\n",
    "    \"\"\"Chạy bộ lọc Kalman cho một chuỗi quan sát và một chế độ LDS.\"\"\"\n",
    "    kf = KalmanFilter(dim_x=state_dim, dim_z=obs_dim)\n",
    "    kf.x = initial_state\n",
    "    kf.F = lds_params['A']\n",
    "    kf.H = lds_params['C']\n",
    "    kf.Q = lds_params['Q']\n",
    "    kf.R = lds_params['R']\n",
    "\n",
    "    n_steps = len(observations)\n",
    "    means = np.zeros((n_steps, state_dim))\n",
    "    covariances = np.zeros((n_steps, state_dim, state_dim))\n",
    "\n",
    "    for i in range(n_steps):\n",
    "        kf.predict()\n",
    "        kf.update(observations[i])\n",
    "        means[i] = kf.x\n",
    "        covariances[i] = kf.P\n",
    "\n",
    "    return means, covariances"
   ],
   "id": "54e45d63c260f6f",
   "outputs": [],
   "execution_count": 7
  },
  {
   "metadata": {},
   "cell_type": "markdown",
   "source": "5. Insert dữ liệu mô phỏng",
   "id": "1638f4fa5425017b"
  },
  {
   "metadata": {
    "ExecuteTime": {
     "end_time": "2025-05-13T10:31:43.394083Z",
     "start_time": "2025-05-13T10:31:40.583038Z"
    }
   },
   "cell_type": "code",
   "source": [
    "import pandas as pd\n",
    "\n",
    "# Thay đổi 'đường_dẫn_tới_file.csv' bằng đường dẫn thực tế đến file CSV của bạn\n",
    "df = pd.read_csv('robot_dataset.csv')\n",
    "\n",
    "# In ra một vài dòng đầu tiên của DataFrame để kiểm tra\n",
    "print(df.head())"
   ],
   "id": "9b7fe705b58460e1",
   "outputs": [
    {
     "name": "stdout",
     "output_type": "stream",
     "text": [
      "  Robot_ID   Task_Type Component_ID Sensor_Type            Sensor_Data  \\\n",
      "0  RBT_001  Inspection      CMP_460       LIDAR  1 (obstacle detected)   \n",
      "1  RBT_002    Assembly      CMP_252     Thermal              85.3 (°C)   \n",
      "2  RBT_003  Inspection      CMP_248     Thermal       92% (visual fit)   \n",
      "3  RBT_004     Welding      CMP_433      Camera      98% (defect-free)   \n",
      "4  RBT_005    Assembly      CMP_992      Camera       92% (visual fit)   \n",
      "\n",
      "   Processing_Time (s)  Accuracy (%) Environmental_Status  \\\n",
      "0                 67.0          90.4               Stable   \n",
      "1                 71.2          98.1               Stable   \n",
      "2                 49.2          95.3             Unstable   \n",
      "3                 74.5          90.2               Stable   \n",
      "4                 64.5          97.2             Unstable   \n",
      "\n",
      "   Energy_Consumption (kWh) Human_Intervention_Needed Obstacle_Detected  \\\n",
      "0                       2.2                        No               Yes   \n",
      "1                       2.7                       Yes                No   \n",
      "2                       2.4                        No                No   \n",
      "3                       2.4                       Yes                No   \n",
      "4                       1.8                        No                No   \n",
      "\n",
      "  Defect_Detected  \n",
      "0             Yes  \n",
      "1              No  \n",
      "2              No  \n",
      "3             Yes  \n",
      "4              No  \n"
     ]
    }
   ],
   "execution_count": 10
  },
  {
   "metadata": {},
   "cell_type": "markdown",
   "source": "6.  In ra ID của robot và thời gian xử lý trung bình",
   "id": "51415623be229464"
  },
  {
   "metadata": {
    "ExecuteTime": {
     "end_time": "2025-05-13T10:31:52.445205Z",
     "start_time": "2025-05-13T10:31:52.430239Z"
    }
   },
   "cell_type": "code",
   "source": [
    "print(\"Robot IDs:\", df['Robot_ID'].unique())\n",
    "print(\"Thời gian xử lý trung bình:\", df['Processing_Time (s)'].mean())"
   ],
   "id": "6b5596fabe4a3d05",
   "outputs": [
    {
     "name": "stdout",
     "output_type": "stream",
     "text": [
      "Robot IDs: ['RBT_001' 'RBT_002' 'RBT_003' 'RBT_004' 'RBT_005' 'RBT_006' 'RBT_007'\n",
      " 'RBT_008' 'RBT_009' 'RBT_010' 'RBT_011' 'RBT_012' 'RBT_013' 'RBT_014'\n",
      " 'RBT_015' 'RBT_016' 'RBT_017' 'RBT_018' 'RBT_019' 'RBT_020' 'RBT_021'\n",
      " 'RBT_022' 'RBT_023' 'RBT_024' 'RBT_025' 'RBT_026' 'RBT_027' 'RBT_028'\n",
      " 'RBT_029' 'RBT_030' 'RBT_031' 'RBT_032' 'RBT_033' 'RBT_034' 'RBT_035'\n",
      " 'RBT_036' 'RBT_037' 'RBT_038' 'RBT_039' 'RBT_040' 'RBT_041' 'RBT_042'\n",
      " 'RBT_043' 'RBT_044' 'RBT_045' 'RBT_046' 'RBT_047' 'RBT_048' 'RBT_049'\n",
      " 'RBT_050' 'RBT_051' 'RBT_052' 'RBT_053' 'RBT_054' 'RBT_055' 'RBT_056'\n",
      " 'RBT_057' 'RBT_058' 'RBT_059' 'RBT_060' 'RBT_061' 'RBT_062' 'RBT_063'\n",
      " 'RBT_064' 'RBT_065' 'RBT_066' 'RBT_067' 'RBT_068' 'RBT_069' 'RBT_070'\n",
      " 'RBT_071' 'RBT_072' 'RBT_073' 'RBT_074' 'RBT_075' 'RBT_076' 'RBT_077'\n",
      " 'RBT_078' 'RBT_079' 'RBT_080' 'RBT_081' 'RBT_082' 'RBT_083' 'RBT_084'\n",
      " 'RBT_085' 'RBT_086' 'RBT_087' 'RBT_088' 'RBT_089' 'RBT_090' 'RBT_091'\n",
      " 'RBT_092' 'RBT_093' 'RBT_094' 'RBT_095' 'RBT_096' 'RBT_097' 'RBT_098'\n",
      " 'RBT_099' 'RBT_100' 'RBT_101' 'RBT_102' 'RBT_103' 'RBT_104' 'RBT_105'\n",
      " 'RBT_106' 'RBT_107' 'RBT_108' 'RBT_109' 'RBT_110' 'RBT_111' 'RBT_112'\n",
      " 'RBT_113' 'RBT_114' 'RBT_115' 'RBT_116' 'RBT_117' 'RBT_118' 'RBT_119'\n",
      " 'RBT_120' 'RBT_121' 'RBT_122' 'RBT_123' 'RBT_124' 'RBT_125' 'RBT_126'\n",
      " 'RBT_127' 'RBT_128' 'RBT_129' 'RBT_130' 'RBT_131' 'RBT_132' 'RBT_133'\n",
      " 'RBT_134' 'RBT_135' 'RBT_136' 'RBT_137' 'RBT_138' 'RBT_139' 'RBT_140'\n",
      " 'RBT_141' 'RBT_142' 'RBT_143' 'RBT_144' 'RBT_145' 'RBT_146' 'RBT_147'\n",
      " 'RBT_148' 'RBT_149' 'RBT_150' 'RBT_151' 'RBT_152' 'RBT_153' 'RBT_154'\n",
      " 'RBT_155' 'RBT_156' 'RBT_157' 'RBT_158' 'RBT_159' 'RBT_160' 'RBT_161'\n",
      " 'RBT_162' 'RBT_163' 'RBT_164' 'RBT_165' 'RBT_166' 'RBT_167' 'RBT_168'\n",
      " 'RBT_169' 'RBT_170' 'RBT_171' 'RBT_172' 'RBT_173' 'RBT_174' 'RBT_175'\n",
      " 'RBT_176' 'RBT_177' 'RBT_178' 'RBT_179' 'RBT_180' 'RBT_181' 'RBT_182'\n",
      " 'RBT_183' 'RBT_184' 'RBT_185' 'RBT_186' 'RBT_187' 'RBT_188' 'RBT_189'\n",
      " 'RBT_190' 'RBT_191' 'RBT_192' 'RBT_193' 'RBT_194' 'RBT_195' 'RBT_196'\n",
      " 'RBT_197' 'RBT_198' 'RBT_199' 'RBT_200' 'RBT_201' 'RBT_202' 'RBT_203'\n",
      " 'RBT_204' 'RBT_205' 'RBT_206' 'RBT_207' 'RBT_208' 'RBT_209' 'RBT_210'\n",
      " 'RBT_211' 'RBT_212' 'RBT_213' 'RBT_214' 'RBT_215' 'RBT_216' 'RBT_217'\n",
      " 'RBT_218' 'RBT_219' 'RBT_220' 'RBT_221' 'RBT_222' 'RBT_223' 'RBT_224'\n",
      " 'RBT_225' 'RBT_226' 'RBT_227' 'RBT_228' 'RBT_229' 'RBT_230' 'RBT_231'\n",
      " 'RBT_232' 'RBT_233' 'RBT_234' 'RBT_235' 'RBT_236' 'RBT_237' 'RBT_238'\n",
      " 'RBT_239' 'RBT_240' 'RBT_241' 'RBT_242' 'RBT_243' 'RBT_244' 'RBT_245'\n",
      " 'RBT_246' 'RBT_247' 'RBT_248' 'RBT_249' 'RBT_250' 'RBT_251' 'RBT_252'\n",
      " 'RBT_253' 'RBT_254' 'RBT_255' 'RBT_256' 'RBT_257' 'RBT_258' 'RBT_259'\n",
      " 'RBT_260' 'RBT_261' 'RBT_262' 'RBT_263' 'RBT_264' 'RBT_265' 'RBT_266'\n",
      " 'RBT_267' 'RBT_268' 'RBT_269' 'RBT_270' 'RBT_271' 'RBT_272' 'RBT_273'\n",
      " 'RBT_274' 'RBT_275' 'RBT_276' 'RBT_277' 'RBT_278' 'RBT_279' 'RBT_280'\n",
      " 'RBT_281' 'RBT_282' 'RBT_283' 'RBT_284' 'RBT_285' 'RBT_286' 'RBT_287'\n",
      " 'RBT_288' 'RBT_289' 'RBT_290' 'RBT_291' 'RBT_292' 'RBT_293' 'RBT_294'\n",
      " 'RBT_295' 'RBT_296' 'RBT_297' 'RBT_298' 'RBT_299' 'RBT_300' 'RBT_301'\n",
      " 'RBT_302' 'RBT_303' 'RBT_304' 'RBT_305' 'RBT_306' 'RBT_307' 'RBT_308'\n",
      " 'RBT_309' 'RBT_310' 'RBT_311' 'RBT_312' 'RBT_313' 'RBT_314' 'RBT_315'\n",
      " 'RBT_316' 'RBT_317' 'RBT_318' 'RBT_319' 'RBT_320' 'RBT_321' 'RBT_322'\n",
      " 'RBT_323' 'RBT_324' 'RBT_325' 'RBT_326' 'RBT_327' 'RBT_328' 'RBT_329'\n",
      " 'RBT_330' 'RBT_331' 'RBT_332' 'RBT_333' 'RBT_334' 'RBT_335' 'RBT_336'\n",
      " 'RBT_337' 'RBT_338' 'RBT_339' 'RBT_340' 'RBT_341' 'RBT_342' 'RBT_343'\n",
      " 'RBT_344' 'RBT_345' 'RBT_346' 'RBT_347' 'RBT_348' 'RBT_349' 'RBT_350'\n",
      " 'RBT_351' 'RBT_352' 'RBT_353' 'RBT_354' 'RBT_355' 'RBT_356' 'RBT_357'\n",
      " 'RBT_358' 'RBT_359' 'RBT_360' 'RBT_361' 'RBT_362' 'RBT_363' 'RBT_364'\n",
      " 'RBT_365' 'RBT_366' 'RBT_367' 'RBT_368' 'RBT_369' 'RBT_370' 'RBT_371'\n",
      " 'RBT_372' 'RBT_373' 'RBT_374' 'RBT_375' 'RBT_376' 'RBT_377' 'RBT_378'\n",
      " 'RBT_379' 'RBT_380' 'RBT_381' 'RBT_382' 'RBT_383' 'RBT_384' 'RBT_385'\n",
      " 'RBT_386' 'RBT_387' 'RBT_388' 'RBT_389' 'RBT_390' 'RBT_391' 'RBT_392'\n",
      " 'RBT_393' 'RBT_394' 'RBT_395' 'RBT_396' 'RBT_397' 'RBT_398' 'RBT_399'\n",
      " 'RBT_400' 'RBT_401' 'RBT_402' 'RBT_403' 'RBT_404' 'RBT_405' 'RBT_406'\n",
      " 'RBT_407' 'RBT_408' 'RBT_409' 'RBT_410' 'RBT_411' 'RBT_412' 'RBT_413'\n",
      " 'RBT_414' 'RBT_415' 'RBT_416' 'RBT_417' 'RBT_418' 'RBT_419' 'RBT_420'\n",
      " 'RBT_421' 'RBT_422' 'RBT_423' 'RBT_424' 'RBT_425' 'RBT_426' 'RBT_427'\n",
      " 'RBT_428' 'RBT_429' 'RBT_430' 'RBT_431' 'RBT_432' 'RBT_433' 'RBT_434'\n",
      " 'RBT_435' 'RBT_436' 'RBT_437' 'RBT_438' 'RBT_439' 'RBT_440' 'RBT_441'\n",
      " 'RBT_442' 'RBT_443' 'RBT_444' 'RBT_445' 'RBT_446' 'RBT_447' 'RBT_448'\n",
      " 'RBT_449' 'RBT_450' 'RBT_451' 'RBT_452' 'RBT_453' 'RBT_454' 'RBT_455'\n",
      " 'RBT_456' 'RBT_457' 'RBT_458' 'RBT_459' 'RBT_460' 'RBT_461' 'RBT_462'\n",
      " 'RBT_463' 'RBT_464' 'RBT_465' 'RBT_466' 'RBT_467' 'RBT_468' 'RBT_469'\n",
      " 'RBT_470' 'RBT_471' 'RBT_472' 'RBT_473' 'RBT_474' 'RBT_475' 'RBT_476'\n",
      " 'RBT_477' 'RBT_478' 'RBT_479' 'RBT_480' 'RBT_481' 'RBT_482' 'RBT_483'\n",
      " 'RBT_484' 'RBT_485' 'RBT_486' 'RBT_487' 'RBT_488' 'RBT_489' 'RBT_490'\n",
      " 'RBT_491' 'RBT_492' 'RBT_493' 'RBT_494' 'RBT_495' 'RBT_496' 'RBT_497'\n",
      " 'RBT_498' 'RBT_499' 'RBT_500']\n",
      "Thời gian xử lý trung bình: 59.937\n"
     ]
    }
   ],
   "execution_count": 11
  },
  {
   "metadata": {},
   "cell_type": "markdown",
   "source": "7. In bộ lọc kalman để in ra chuỗi trạng thái ẩn",
   "id": "c6f745ef8cddfb24"
  },
  {
   "metadata": {
    "ExecuteTime": {
     "end_time": "2025-05-13T10:52:38.480083Z",
     "start_time": "2025-05-13T10:52:38.405176Z"
    }
   },
   "cell_type": "code",
   "source": [
    "estimated_states_per_mode = []\n",
    "for i in range(n_modes):\n",
    "    initial_state_est = np.array([0.0, 0.0, 0.5, 0.2]) # Ước tính ban đầu\n",
    "    means, covariances = run_kalman_filter(observations, initial_state_est, lds_params[i])\n",
    "    estimated_states_per_mode.append(means)"
   ],
   "id": "14788ff9f1adcd0f",
   "outputs": [
    {
     "ename": "NameError",
     "evalue": "name 'observations' is not defined",
     "output_type": "error",
     "traceback": [
      "\u001B[31m---------------------------------------------------------------------------\u001B[39m",
      "\u001B[31mNameError\u001B[39m                                 Traceback (most recent call last)",
      "\u001B[36mCell\u001B[39m\u001B[36m \u001B[39m\u001B[32mIn[19]\u001B[39m\u001B[32m, line 4\u001B[39m\n\u001B[32m      2\u001B[39m \u001B[38;5;28;01mfor\u001B[39;00m i \u001B[38;5;129;01min\u001B[39;00m \u001B[38;5;28mrange\u001B[39m(n_modes):\n\u001B[32m      3\u001B[39m     initial_state_est = np.array([\u001B[32m0.0\u001B[39m, \u001B[32m0.0\u001B[39m, \u001B[32m0.5\u001B[39m, \u001B[32m0.2\u001B[39m]) \u001B[38;5;66;03m# Ước tính ban đầu\u001B[39;00m\n\u001B[32m----> \u001B[39m\u001B[32m4\u001B[39m     means, covariances = run_kalman_filter(\u001B[43mobservations\u001B[49m, initial_state_est, lds_params[i])\n\u001B[32m      5\u001B[39m     estimated_states_per_mode.append(means)\n",
      "\u001B[31mNameError\u001B[39m: name 'observations' is not defined"
     ]
    }
   ],
   "execution_count": 19
  },
  {
   "metadata": {},
   "cell_type": "markdown",
   "source": "8. Trực quan hóa kết quả",
   "id": "47cd4cd73ffa094e"
  },
  {
   "metadata": {},
   "cell_type": "code",
   "outputs": [],
   "execution_count": null,
   "source": [
    "plt.figure(figsize=(10, 6))\n",
    "plt.plot(observations[:, 0], observations[:, 1], 'ro', label='Quan sát')\n",
    "plt.plot(true_states[:, 0], true_states[:, 1], 'g-', label='Trạng thái thật')\n",
    "for i, est_states in enumerate(estimated_states_per_mode):\n",
    "    plt.plot(est_states[:, 0], est_states[:, 1], '--', label=f'Ước tính (chế độ {i})')\n",
    "plt.xlabel('X')\n",
    "plt.ylabel('Y')\n",
    "plt.title('Mô hình hóa hành vi bằng SLDS (HMM + Lọc Kalman)')\n",
    "plt.legend()\n",
    "plt.grid(True)\n",
    "plt.show()\n",
    "\n",
    "plt.figure(figsize=(10, 4))\n",
    "plt.plot(hidden_states, label='Trạng thái ẩn thật')\n",
    "plt.yticks(range(n_modes))\n",
    "plt.ylabel('Chế độ')\n",
    "plt.xlabel('Thời gian')\n",
    "plt.title('Chuỗi trạng thái ẩn thật')\n",
    "plt.legend()\n",
    "plt.grid(True)\n",
    "plt.show()"
   ],
   "id": "7eb4b761b1ad09d0"
  }
 ],
 "metadata": {
  "kernelspec": {
   "display_name": "Python 3",
   "language": "python",
   "name": "python3"
  },
  "language_info": {
   "codemirror_mode": {
    "name": "ipython",
    "version": 2
   },
   "file_extension": ".py",
   "mimetype": "text/x-python",
   "name": "python",
   "nbconvert_exporter": "python",
   "pygments_lexer": "ipython2",
   "version": "2.7.6"
  }
 },
 "nbformat": 4,
 "nbformat_minor": 5
}
